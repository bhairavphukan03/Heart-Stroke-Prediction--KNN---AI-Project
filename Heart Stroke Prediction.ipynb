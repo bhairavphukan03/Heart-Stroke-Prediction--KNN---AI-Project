{
 "cells": [
  {
   "cell_type": "code",
   "execution_count": 22,
   "id": "bfed84b6",
   "metadata": {},
   "outputs": [],
   "source": [
    "import pandas as pd\n",
    "import numpy as np\n",
    "import matplotlib as mpl\n",
    "import matplotlib.pyplot as plt\n",
    "%matplotlib inline\n",
    "import seaborn as sns\n",
    "from sklearn.preprocessing import LabelEncoder\n",
    "from sklearn.model_selection import train_test_split\n",
    "from sklearn.feature_selection import SelectKBest, f_classif\n",
    "from sklearn.preprocessing import StandardScaler\n",
    "from sklearn.neighbors import KNeighborsClassifier\n",
    "from sklearn.metrics import plot_confusion_matrix,classification_report\n",
    "from sklearn.metrics import plot_precision_recall_curve\n",
    "from sklearn.metrics import f1_score, accuracy_score, matthews_corrcoef\n",
    "from sklearn import metrics\n",
    "from sklearn.metrics import confusion_matrix"
   ]
  },
  {
   "cell_type": "code",
   "execution_count": 26,
   "id": "b26d1bb1",
   "metadata": {},
   "outputs": [
    {
     "data": {
      "text/html": [
       "<div>\n",
       "<style scoped>\n",
       "    .dataframe tbody tr th:only-of-type {\n",
       "        vertical-align: middle;\n",
       "    }\n",
       "\n",
       "    .dataframe tbody tr th {\n",
       "        vertical-align: top;\n",
       "    }\n",
       "\n",
       "    .dataframe thead th {\n",
       "        text-align: right;\n",
       "    }\n",
       "</style>\n",
       "<table border=\"1\" class=\"dataframe\">\n",
       "  <thead>\n",
       "    <tr style=\"text-align: right;\">\n",
       "      <th></th>\n",
       "      <th>id</th>\n",
       "      <th>gender</th>\n",
       "      <th>age</th>\n",
       "      <th>hypertension</th>\n",
       "      <th>heart_disease</th>\n",
       "      <th>ever_married</th>\n",
       "      <th>work_type</th>\n",
       "      <th>Residence_type</th>\n",
       "      <th>avg_glucose_level</th>\n",
       "      <th>bmi</th>\n",
       "      <th>smoking_status</th>\n",
       "      <th>stroke</th>\n",
       "    </tr>\n",
       "  </thead>\n",
       "  <tbody>\n",
       "    <tr>\n",
       "      <th>0</th>\n",
       "      <td>9046</td>\n",
       "      <td>Male</td>\n",
       "      <td>67.0</td>\n",
       "      <td>0</td>\n",
       "      <td>1</td>\n",
       "      <td>Yes</td>\n",
       "      <td>Private</td>\n",
       "      <td>Urban</td>\n",
       "      <td>228.69</td>\n",
       "      <td>36.6</td>\n",
       "      <td>formerly smoked</td>\n",
       "      <td>1</td>\n",
       "    </tr>\n",
       "    <tr>\n",
       "      <th>1</th>\n",
       "      <td>51676</td>\n",
       "      <td>Female</td>\n",
       "      <td>61.0</td>\n",
       "      <td>0</td>\n",
       "      <td>0</td>\n",
       "      <td>Yes</td>\n",
       "      <td>Self-employed</td>\n",
       "      <td>Rural</td>\n",
       "      <td>202.21</td>\n",
       "      <td>NaN</td>\n",
       "      <td>never smoked</td>\n",
       "      <td>1</td>\n",
       "    </tr>\n",
       "    <tr>\n",
       "      <th>2</th>\n",
       "      <td>31112</td>\n",
       "      <td>Male</td>\n",
       "      <td>80.0</td>\n",
       "      <td>0</td>\n",
       "      <td>1</td>\n",
       "      <td>Yes</td>\n",
       "      <td>Private</td>\n",
       "      <td>Rural</td>\n",
       "      <td>105.92</td>\n",
       "      <td>32.5</td>\n",
       "      <td>never smoked</td>\n",
       "      <td>1</td>\n",
       "    </tr>\n",
       "    <tr>\n",
       "      <th>3</th>\n",
       "      <td>60182</td>\n",
       "      <td>Female</td>\n",
       "      <td>49.0</td>\n",
       "      <td>0</td>\n",
       "      <td>0</td>\n",
       "      <td>Yes</td>\n",
       "      <td>Private</td>\n",
       "      <td>Urban</td>\n",
       "      <td>171.23</td>\n",
       "      <td>34.4</td>\n",
       "      <td>smokes</td>\n",
       "      <td>1</td>\n",
       "    </tr>\n",
       "    <tr>\n",
       "      <th>4</th>\n",
       "      <td>1665</td>\n",
       "      <td>Female</td>\n",
       "      <td>79.0</td>\n",
       "      <td>1</td>\n",
       "      <td>0</td>\n",
       "      <td>Yes</td>\n",
       "      <td>Self-employed</td>\n",
       "      <td>Rural</td>\n",
       "      <td>174.12</td>\n",
       "      <td>24.0</td>\n",
       "      <td>never smoked</td>\n",
       "      <td>1</td>\n",
       "    </tr>\n",
       "  </tbody>\n",
       "</table>\n",
       "</div>"
      ],
      "text/plain": [
       "      id  gender   age  hypertension  heart_disease ever_married  \\\n",
       "0   9046    Male  67.0             0              1          Yes   \n",
       "1  51676  Female  61.0             0              0          Yes   \n",
       "2  31112    Male  80.0             0              1          Yes   \n",
       "3  60182  Female  49.0             0              0          Yes   \n",
       "4   1665  Female  79.0             1              0          Yes   \n",
       "\n",
       "       work_type Residence_type  avg_glucose_level   bmi   smoking_status  \\\n",
       "0        Private          Urban             228.69  36.6  formerly smoked   \n",
       "1  Self-employed          Rural             202.21   NaN     never smoked   \n",
       "2        Private          Rural             105.92  32.5     never smoked   \n",
       "3        Private          Urban             171.23  34.4           smokes   \n",
       "4  Self-employed          Rural             174.12  24.0     never smoked   \n",
       "\n",
       "   stroke  \n",
       "0       1  \n",
       "1       1  \n",
       "2       1  \n",
       "3       1  \n",
       "4       1  "
      ]
     },
     "execution_count": 26,
     "metadata": {},
     "output_type": "execute_result"
    }
   ],
   "source": [
    "df = pd.read_csv(\"healthcare-dataset-stroke-data.csv\")\n",
    "df.head()"
   ]
  },
  {
   "cell_type": "code",
   "execution_count": 3,
   "id": "962e6584",
   "metadata": {},
   "outputs": [
    {
     "name": "stdout",
     "output_type": "stream",
     "text": [
      "<class 'pandas.core.frame.DataFrame'>\n",
      "RangeIndex: 5110 entries, 0 to 5109\n",
      "Data columns (total 12 columns):\n",
      " #   Column             Non-Null Count  Dtype  \n",
      "---  ------             --------------  -----  \n",
      " 0   id                 5110 non-null   int64  \n",
      " 1   gender             5110 non-null   object \n",
      " 2   age                5110 non-null   float64\n",
      " 3   hypertension       5110 non-null   int64  \n",
      " 4   heart_disease      5110 non-null   int64  \n",
      " 5   ever_married       5110 non-null   object \n",
      " 6   work_type          5110 non-null   object \n",
      " 7   Residence_type     5110 non-null   object \n",
      " 8   avg_glucose_level  5110 non-null   float64\n",
      " 9   bmi                4909 non-null   float64\n",
      " 10  smoking_status     5110 non-null   object \n",
      " 11  stroke             5110 non-null   int64  \n",
      "dtypes: float64(3), int64(4), object(5)\n",
      "memory usage: 479.2+ KB\n"
     ]
    }
   ],
   "source": [
    "df.info()"
   ]
  },
  {
   "cell_type": "code",
   "execution_count": 4,
   "id": "2b78e05e",
   "metadata": {},
   "outputs": [
    {
     "data": {
      "text/plain": [
       "201"
      ]
     },
     "execution_count": 4,
     "metadata": {},
     "output_type": "execute_result"
    }
   ],
   "source": [
    "#missing values in BMI column\n",
    "df['bmi'].isnull().sum()\n"
   ]
  },
  {
   "cell_type": "code",
   "execution_count": 5,
   "id": "5187334b",
   "metadata": {},
   "outputs": [],
   "source": [
    "bmi_mean=df['bmi'].mean()\n",
    "df['bmi'].replace(np.nan, bmi_mean, inplace=True)\n"
   ]
  },
  {
   "cell_type": "code",
   "execution_count": 6,
   "id": "3d68310e",
   "metadata": {},
   "outputs": [
    {
     "data": {
      "text/plain": [
       "0    4861\n",
       "1     249\n",
       "Name: stroke, dtype: int64"
      ]
     },
     "execution_count": 6,
     "metadata": {},
     "output_type": "execute_result"
    }
   ],
   "source": [
    "df['stroke'].value_counts()\n"
   ]
  },
  {
   "cell_type": "markdown",
   "id": "b3c84c9a",
   "metadata": {},
   "source": [
    "### Preprocessing "
   ]
  },
  {
   "cell_type": "code",
   "execution_count": 7,
   "id": "3ad8cdc6",
   "metadata": {},
   "outputs": [
    {
     "name": "stdout",
     "output_type": "stream",
     "text": [
      "Index(['gender', 'ever_married', 'work_type', 'Residence_type',\n",
      "       'smoking_status'],\n",
      "      dtype='object')\n"
     ]
    },
    {
     "data": {
      "text/html": [
       "<div>\n",
       "<style scoped>\n",
       "    .dataframe tbody tr th:only-of-type {\n",
       "        vertical-align: middle;\n",
       "    }\n",
       "\n",
       "    .dataframe tbody tr th {\n",
       "        vertical-align: top;\n",
       "    }\n",
       "\n",
       "    .dataframe thead th {\n",
       "        text-align: right;\n",
       "    }\n",
       "</style>\n",
       "<table border=\"1\" class=\"dataframe\">\n",
       "  <thead>\n",
       "    <tr style=\"text-align: right;\">\n",
       "      <th></th>\n",
       "      <th>id</th>\n",
       "      <th>gender</th>\n",
       "      <th>age</th>\n",
       "      <th>hypertension</th>\n",
       "      <th>heart_disease</th>\n",
       "      <th>ever_married</th>\n",
       "      <th>work_type</th>\n",
       "      <th>Residence_type</th>\n",
       "      <th>avg_glucose_level</th>\n",
       "      <th>bmi</th>\n",
       "      <th>smoking_status</th>\n",
       "      <th>stroke</th>\n",
       "    </tr>\n",
       "  </thead>\n",
       "  <tbody>\n",
       "    <tr>\n",
       "      <th>0</th>\n",
       "      <td>671</td>\n",
       "      <td>1</td>\n",
       "      <td>88</td>\n",
       "      <td>0</td>\n",
       "      <td>1</td>\n",
       "      <td>1</td>\n",
       "      <td>2</td>\n",
       "      <td>1</td>\n",
       "      <td>3850</td>\n",
       "      <td>240</td>\n",
       "      <td>1</td>\n",
       "      <td>1</td>\n",
       "    </tr>\n",
       "    <tr>\n",
       "      <th>1</th>\n",
       "      <td>3610</td>\n",
       "      <td>0</td>\n",
       "      <td>82</td>\n",
       "      <td>0</td>\n",
       "      <td>0</td>\n",
       "      <td>1</td>\n",
       "      <td>3</td>\n",
       "      <td>0</td>\n",
       "      <td>3588</td>\n",
       "      <td>162</td>\n",
       "      <td>2</td>\n",
       "      <td>1</td>\n",
       "    </tr>\n",
       "    <tr>\n",
       "      <th>2</th>\n",
       "      <td>2151</td>\n",
       "      <td>1</td>\n",
       "      <td>101</td>\n",
       "      <td>0</td>\n",
       "      <td>1</td>\n",
       "      <td>1</td>\n",
       "      <td>2</td>\n",
       "      <td>0</td>\n",
       "      <td>2483</td>\n",
       "      <td>199</td>\n",
       "      <td>2</td>\n",
       "      <td>1</td>\n",
       "    </tr>\n",
       "    <tr>\n",
       "      <th>3</th>\n",
       "      <td>4226</td>\n",
       "      <td>0</td>\n",
       "      <td>70</td>\n",
       "      <td>0</td>\n",
       "      <td>0</td>\n",
       "      <td>1</td>\n",
       "      <td>2</td>\n",
       "      <td>1</td>\n",
       "      <td>3385</td>\n",
       "      <td>218</td>\n",
       "      <td>3</td>\n",
       "      <td>1</td>\n",
       "    </tr>\n",
       "    <tr>\n",
       "      <th>4</th>\n",
       "      <td>114</td>\n",
       "      <td>0</td>\n",
       "      <td>100</td>\n",
       "      <td>1</td>\n",
       "      <td>0</td>\n",
       "      <td>1</td>\n",
       "      <td>3</td>\n",
       "      <td>0</td>\n",
       "      <td>3394</td>\n",
       "      <td>113</td>\n",
       "      <td>2</td>\n",
       "      <td>1</td>\n",
       "    </tr>\n",
       "    <tr>\n",
       "      <th>5</th>\n",
       "      <td>3970</td>\n",
       "      <td>1</td>\n",
       "      <td>102</td>\n",
       "      <td>0</td>\n",
       "      <td>0</td>\n",
       "      <td>1</td>\n",
       "      <td>2</td>\n",
       "      <td>1</td>\n",
       "      <td>3448</td>\n",
       "      <td>164</td>\n",
       "      <td>1</td>\n",
       "      <td>1</td>\n",
       "    </tr>\n",
       "    <tr>\n",
       "      <th>6</th>\n",
       "      <td>3766</td>\n",
       "      <td>1</td>\n",
       "      <td>95</td>\n",
       "      <td>1</td>\n",
       "      <td>1</td>\n",
       "      <td>1</td>\n",
       "      <td>2</td>\n",
       "      <td>0</td>\n",
       "      <td>588</td>\n",
       "      <td>147</td>\n",
       "      <td>2</td>\n",
       "      <td>1</td>\n",
       "    </tr>\n",
       "    <tr>\n",
       "      <th>7</th>\n",
       "      <td>748</td>\n",
       "      <td>0</td>\n",
       "      <td>90</td>\n",
       "      <td>0</td>\n",
       "      <td>0</td>\n",
       "      <td>0</td>\n",
       "      <td>2</td>\n",
       "      <td>1</td>\n",
       "      <td>1951</td>\n",
       "      <td>101</td>\n",
       "      <td>2</td>\n",
       "      <td>1</td>\n",
       "    </tr>\n",
       "    <tr>\n",
       "      <th>8</th>\n",
       "      <td>1894</td>\n",
       "      <td>0</td>\n",
       "      <td>80</td>\n",
       "      <td>0</td>\n",
       "      <td>0</td>\n",
       "      <td>1</td>\n",
       "      <td>2</td>\n",
       "      <td>0</td>\n",
       "      <td>912</td>\n",
       "      <td>162</td>\n",
       "      <td>0</td>\n",
       "      <td>1</td>\n",
       "    </tr>\n",
       "    <tr>\n",
       "      <th>9</th>\n",
       "      <td>4243</td>\n",
       "      <td>0</td>\n",
       "      <td>99</td>\n",
       "      <td>0</td>\n",
       "      <td>0</td>\n",
       "      <td>1</td>\n",
       "      <td>2</td>\n",
       "      <td>1</td>\n",
       "      <td>126</td>\n",
       "      <td>115</td>\n",
       "      <td>0</td>\n",
       "      <td>1</td>\n",
       "    </tr>\n",
       "  </tbody>\n",
       "</table>\n",
       "</div>"
      ],
      "text/plain": [
       "     id  gender  age  hypertension  heart_disease  ever_married  work_type  \\\n",
       "0   671       1   88             0              1             1          2   \n",
       "1  3610       0   82             0              0             1          3   \n",
       "2  2151       1  101             0              1             1          2   \n",
       "3  4226       0   70             0              0             1          2   \n",
       "4   114       0  100             1              0             1          3   \n",
       "5  3970       1  102             0              0             1          2   \n",
       "6  3766       1   95             1              1             1          2   \n",
       "7   748       0   90             0              0             0          2   \n",
       "8  1894       0   80             0              0             1          2   \n",
       "9  4243       0   99             0              0             1          2   \n",
       "\n",
       "   Residence_type  avg_glucose_level  bmi  smoking_status  stroke  \n",
       "0               1               3850  240               1       1  \n",
       "1               0               3588  162               2       1  \n",
       "2               0               2483  199               2       1  \n",
       "3               1               3385  218               3       1  \n",
       "4               0               3394  113               2       1  \n",
       "5               1               3448  164               1       1  \n",
       "6               0                588  147               2       1  \n",
       "7               1               1951  101               2       1  \n",
       "8               0                912  162               0       1  \n",
       "9               1                126  115               0       1  "
      ]
     },
     "execution_count": 7,
     "metadata": {},
     "output_type": "execute_result"
    }
   ],
   "source": [
    "cat_col = df.select_dtypes(['object']).columns\n",
    "print(cat_col)\n",
    "label_encode = LabelEncoder()\n",
    "#initializing an object of class LabelEncoder\n",
    "for i in df.columns:\n",
    "    df[i] = label_encode.fit_transform(df[i])\n",
    "df.head(10)"
   ]
  },
  {
   "cell_type": "code",
   "execution_count": 8,
   "id": "27e59748",
   "metadata": {},
   "outputs": [
    {
     "data": {
      "text/html": [
       "<div>\n",
       "<style scoped>\n",
       "    .dataframe tbody tr th:only-of-type {\n",
       "        vertical-align: middle;\n",
       "    }\n",
       "\n",
       "    .dataframe tbody tr th {\n",
       "        vertical-align: top;\n",
       "    }\n",
       "\n",
       "    .dataframe thead th {\n",
       "        text-align: right;\n",
       "    }\n",
       "</style>\n",
       "<table border=\"1\" class=\"dataframe\">\n",
       "  <thead>\n",
       "    <tr style=\"text-align: right;\">\n",
       "      <th></th>\n",
       "      <th>id</th>\n",
       "      <th>gender</th>\n",
       "      <th>age</th>\n",
       "      <th>hypertension</th>\n",
       "      <th>heart_disease</th>\n",
       "      <th>ever_married</th>\n",
       "      <th>work_type</th>\n",
       "      <th>Residence_type</th>\n",
       "      <th>avg_glucose_level</th>\n",
       "      <th>bmi</th>\n",
       "      <th>smoking_status</th>\n",
       "      <th>stroke</th>\n",
       "    </tr>\n",
       "  </thead>\n",
       "  <tbody>\n",
       "    <tr>\n",
       "      <th>id</th>\n",
       "      <td>1.000000</td>\n",
       "      <td>0.002617</td>\n",
       "      <td>0.002116</td>\n",
       "      <td>0.003553</td>\n",
       "      <td>-0.001205</td>\n",
       "      <td>0.013654</td>\n",
       "      <td>-0.015510</td>\n",
       "      <td>-0.001142</td>\n",
       "      <td>-0.043663</td>\n",
       "      <td>0.003113</td>\n",
       "      <td>0.013977</td>\n",
       "      <td>0.006499</td>\n",
       "    </tr>\n",
       "    <tr>\n",
       "      <th>gender</th>\n",
       "      <td>0.002617</td>\n",
       "      <td>1.000000</td>\n",
       "      <td>-0.030616</td>\n",
       "      <td>0.020994</td>\n",
       "      <td>0.085447</td>\n",
       "      <td>-0.031005</td>\n",
       "      <td>0.056422</td>\n",
       "      <td>-0.006738</td>\n",
       "      <td>0.050396</td>\n",
       "      <td>-0.026778</td>\n",
       "      <td>-0.062581</td>\n",
       "      <td>0.008929</td>\n",
       "    </tr>\n",
       "    <tr>\n",
       "      <th>age</th>\n",
       "      <td>0.002116</td>\n",
       "      <td>-0.030616</td>\n",
       "      <td>1.000000</td>\n",
       "      <td>0.273891</td>\n",
       "      <td>0.260691</td>\n",
       "      <td>0.678447</td>\n",
       "      <td>-0.370303</td>\n",
       "      <td>0.013461</td>\n",
       "      <td>0.150619</td>\n",
       "      <td>0.347834</td>\n",
       "      <td>0.272053</td>\n",
       "      <td>0.242122</td>\n",
       "    </tr>\n",
       "    <tr>\n",
       "      <th>hypertension</th>\n",
       "      <td>0.003553</td>\n",
       "      <td>0.020994</td>\n",
       "      <td>0.273891</td>\n",
       "      <td>1.000000</td>\n",
       "      <td>0.108306</td>\n",
       "      <td>0.164243</td>\n",
       "      <td>-0.051761</td>\n",
       "      <td>-0.007913</td>\n",
       "      <td>0.121690</td>\n",
       "      <td>0.156654</td>\n",
       "      <td>0.111038</td>\n",
       "      <td>0.127904</td>\n",
       "    </tr>\n",
       "    <tr>\n",
       "      <th>heart_disease</th>\n",
       "      <td>-0.001205</td>\n",
       "      <td>0.085447</td>\n",
       "      <td>0.260691</td>\n",
       "      <td>0.108306</td>\n",
       "      <td>1.000000</td>\n",
       "      <td>0.114644</td>\n",
       "      <td>-0.028023</td>\n",
       "      <td>0.003092</td>\n",
       "      <td>0.113220</td>\n",
       "      <td>0.042917</td>\n",
       "      <td>0.048460</td>\n",
       "      <td>0.134914</td>\n",
       "    </tr>\n",
       "    <tr>\n",
       "      <th>ever_married</th>\n",
       "      <td>0.013654</td>\n",
       "      <td>-0.031005</td>\n",
       "      <td>0.678447</td>\n",
       "      <td>0.164243</td>\n",
       "      <td>0.114644</td>\n",
       "      <td>1.000000</td>\n",
       "      <td>-0.352722</td>\n",
       "      <td>0.006261</td>\n",
       "      <td>0.104863</td>\n",
       "      <td>0.348948</td>\n",
       "      <td>0.259647</td>\n",
       "      <td>0.108340</td>\n",
       "    </tr>\n",
       "    <tr>\n",
       "      <th>work_type</th>\n",
       "      <td>-0.015510</td>\n",
       "      <td>0.056422</td>\n",
       "      <td>-0.370303</td>\n",
       "      <td>-0.051761</td>\n",
       "      <td>-0.028023</td>\n",
       "      <td>-0.352722</td>\n",
       "      <td>1.000000</td>\n",
       "      <td>-0.007316</td>\n",
       "      <td>-0.026725</td>\n",
       "      <td>-0.310049</td>\n",
       "      <td>-0.305927</td>\n",
       "      <td>-0.032316</td>\n",
       "    </tr>\n",
       "    <tr>\n",
       "      <th>Residence_type</th>\n",
       "      <td>-0.001142</td>\n",
       "      <td>-0.006738</td>\n",
       "      <td>0.013461</td>\n",
       "      <td>-0.007913</td>\n",
       "      <td>0.003092</td>\n",
       "      <td>0.006261</td>\n",
       "      <td>-0.007316</td>\n",
       "      <td>1.000000</td>\n",
       "      <td>-0.012632</td>\n",
       "      <td>0.002529</td>\n",
       "      <td>0.008237</td>\n",
       "      <td>0.015458</td>\n",
       "    </tr>\n",
       "    <tr>\n",
       "      <th>avg_glucose_level</th>\n",
       "      <td>-0.043663</td>\n",
       "      <td>0.050396</td>\n",
       "      <td>0.150619</td>\n",
       "      <td>0.121690</td>\n",
       "      <td>0.113220</td>\n",
       "      <td>0.104863</td>\n",
       "      <td>-0.026725</td>\n",
       "      <td>-0.012632</td>\n",
       "      <td>1.000000</td>\n",
       "      <td>0.118591</td>\n",
       "      <td>0.041203</td>\n",
       "      <td>0.088833</td>\n",
       "    </tr>\n",
       "    <tr>\n",
       "      <th>bmi</th>\n",
       "      <td>0.003113</td>\n",
       "      <td>-0.026778</td>\n",
       "      <td>0.347834</td>\n",
       "      <td>0.156654</td>\n",
       "      <td>0.042917</td>\n",
       "      <td>0.348948</td>\n",
       "      <td>-0.310049</td>\n",
       "      <td>0.002529</td>\n",
       "      <td>0.118591</td>\n",
       "      <td>1.000000</td>\n",
       "      <td>0.227303</td>\n",
       "      <td>0.042307</td>\n",
       "    </tr>\n",
       "    <tr>\n",
       "      <th>smoking_status</th>\n",
       "      <td>0.013977</td>\n",
       "      <td>-0.062581</td>\n",
       "      <td>0.272053</td>\n",
       "      <td>0.111038</td>\n",
       "      <td>0.048460</td>\n",
       "      <td>0.259647</td>\n",
       "      <td>-0.305927</td>\n",
       "      <td>0.008237</td>\n",
       "      <td>0.041203</td>\n",
       "      <td>0.227303</td>\n",
       "      <td>1.000000</td>\n",
       "      <td>0.028123</td>\n",
       "    </tr>\n",
       "    <tr>\n",
       "      <th>stroke</th>\n",
       "      <td>0.006499</td>\n",
       "      <td>0.008929</td>\n",
       "      <td>0.242122</td>\n",
       "      <td>0.127904</td>\n",
       "      <td>0.134914</td>\n",
       "      <td>0.108340</td>\n",
       "      <td>-0.032316</td>\n",
       "      <td>0.015458</td>\n",
       "      <td>0.088833</td>\n",
       "      <td>0.042307</td>\n",
       "      <td>0.028123</td>\n",
       "      <td>1.000000</td>\n",
       "    </tr>\n",
       "  </tbody>\n",
       "</table>\n",
       "</div>"
      ],
      "text/plain": [
       "                         id    gender       age  hypertension  heart_disease  \\\n",
       "id                 1.000000  0.002617  0.002116      0.003553      -0.001205   \n",
       "gender             0.002617  1.000000 -0.030616      0.020994       0.085447   \n",
       "age                0.002116 -0.030616  1.000000      0.273891       0.260691   \n",
       "hypertension       0.003553  0.020994  0.273891      1.000000       0.108306   \n",
       "heart_disease     -0.001205  0.085447  0.260691      0.108306       1.000000   \n",
       "ever_married       0.013654 -0.031005  0.678447      0.164243       0.114644   \n",
       "work_type         -0.015510  0.056422 -0.370303     -0.051761      -0.028023   \n",
       "Residence_type    -0.001142 -0.006738  0.013461     -0.007913       0.003092   \n",
       "avg_glucose_level -0.043663  0.050396  0.150619      0.121690       0.113220   \n",
       "bmi                0.003113 -0.026778  0.347834      0.156654       0.042917   \n",
       "smoking_status     0.013977 -0.062581  0.272053      0.111038       0.048460   \n",
       "stroke             0.006499  0.008929  0.242122      0.127904       0.134914   \n",
       "\n",
       "                   ever_married  work_type  Residence_type  avg_glucose_level  \\\n",
       "id                     0.013654  -0.015510       -0.001142          -0.043663   \n",
       "gender                -0.031005   0.056422       -0.006738           0.050396   \n",
       "age                    0.678447  -0.370303        0.013461           0.150619   \n",
       "hypertension           0.164243  -0.051761       -0.007913           0.121690   \n",
       "heart_disease          0.114644  -0.028023        0.003092           0.113220   \n",
       "ever_married           1.000000  -0.352722        0.006261           0.104863   \n",
       "work_type             -0.352722   1.000000       -0.007316          -0.026725   \n",
       "Residence_type         0.006261  -0.007316        1.000000          -0.012632   \n",
       "avg_glucose_level      0.104863  -0.026725       -0.012632           1.000000   \n",
       "bmi                    0.348948  -0.310049        0.002529           0.118591   \n",
       "smoking_status         0.259647  -0.305927        0.008237           0.041203   \n",
       "stroke                 0.108340  -0.032316        0.015458           0.088833   \n",
       "\n",
       "                        bmi  smoking_status    stroke  \n",
       "id                 0.003113        0.013977  0.006499  \n",
       "gender            -0.026778       -0.062581  0.008929  \n",
       "age                0.347834        0.272053  0.242122  \n",
       "hypertension       0.156654        0.111038  0.127904  \n",
       "heart_disease      0.042917        0.048460  0.134914  \n",
       "ever_married       0.348948        0.259647  0.108340  \n",
       "work_type         -0.310049       -0.305927 -0.032316  \n",
       "Residence_type     0.002529        0.008237  0.015458  \n",
       "avg_glucose_level  0.118591        0.041203  0.088833  \n",
       "bmi                1.000000        0.227303  0.042307  \n",
       "smoking_status     0.227303        1.000000  0.028123  \n",
       "stroke             0.042307        0.028123  1.000000  "
      ]
     },
     "execution_count": 8,
     "metadata": {},
     "output_type": "execute_result"
    }
   ],
   "source": [
    "df.corr()\n"
   ]
  },
  {
   "cell_type": "code",
   "execution_count": 9,
   "id": "aed40052",
   "metadata": {},
   "outputs": [
    {
     "data": {
      "text/plain": [
       "<AxesSubplot:>"
      ]
     },
     "execution_count": 9,
     "metadata": {},
     "output_type": "execute_result"
    },
    {
     "data": {
      "image/png": "[encoded data removed]",
      "text/plain": [
       "<Figure size 432x288 with 2 Axes>"
      ]
     },
     "metadata": {
      "needs_background": "light"
     },
     "output_type": "display_data"
    }
   ],
   "source": [
    "plt.plot(figsize=(15,15))\n",
    "sns.heatmap(df.corr())"
   ]
  },
  {
   "cell_type": "code",
   "execution_count": 10,
   "id": "c7a1a32c",
   "metadata": {},
   "outputs": [],
   "source": [
    "#drop target columns\n",
    "drop_col = ['stroke']\n",
    "#dataset containing the features columns\n",
    "x_feat = df.iloc[:,0:10] #independent variable (predictors)\n",
    "y_tar = df['stroke'] # target feature column\n",
    "best_feat = SelectKBest(score_func = f_classif, k='all')\n",
    "features_fitted = best_feat.fit(x_feat, y_tar)\n",
    "df_scores = pd.DataFrame(features_fitted.scores_)\n",
    "df_columns = pd.DataFrame(x_feat.columns)"
   ]
  },
  {
   "cell_type": "code",
   "execution_count": 11,
   "id": "71109b45",
   "metadata": {},
   "outputs": [
    {
     "data": {
      "text/html": [
       "<div>\n",
       "<style scoped>\n",
       "    .dataframe tbody tr th:only-of-type {\n",
       "        vertical-align: middle;\n",
       "    }\n",
       "\n",
       "    .dataframe tbody tr th {\n",
       "        vertical-align: top;\n",
       "    }\n",
       "\n",
       "    .dataframe thead th {\n",
       "        text-align: right;\n",
       "    }\n",
       "</style>\n",
       "<table border=\"1\" class=\"dataframe\">\n",
       "  <thead>\n",
       "    <tr style=\"text-align: right;\">\n",
       "      <th></th>\n",
       "      <th>Features</th>\n",
       "      <th>Score</th>\n",
       "    </tr>\n",
       "  </thead>\n",
       "  <tbody>\n",
       "    <tr>\n",
       "      <th>0</th>\n",
       "      <td>id</td>\n",
       "      <td>0.215766</td>\n",
       "    </tr>\n",
       "    <tr>\n",
       "      <th>1</th>\n",
       "      <td>gender</td>\n",
       "      <td>0.407266</td>\n",
       "    </tr>\n",
       "    <tr>\n",
       "      <th>2</th>\n",
       "      <td>age</td>\n",
       "      <td>318.094573</td>\n",
       "    </tr>\n",
       "    <tr>\n",
       "      <th>3</th>\n",
       "      <td>hypertension</td>\n",
       "      <td>84.953542</td>\n",
       "    </tr>\n",
       "    <tr>\n",
       "      <th>4</th>\n",
       "      <td>heart_disease</td>\n",
       "      <td>94.698406</td>\n",
       "    </tr>\n",
       "    <tr>\n",
       "      <th>5</th>\n",
       "      <td>ever_married</td>\n",
       "      <td>60.667230</td>\n",
       "    </tr>\n",
       "    <tr>\n",
       "      <th>6</th>\n",
       "      <td>work_type</td>\n",
       "      <td>5.340019</td>\n",
       "    </tr>\n",
       "    <tr>\n",
       "      <th>7</th>\n",
       "      <td>Residence_type</td>\n",
       "      <td>1.220842</td>\n",
       "    </tr>\n",
       "    <tr>\n",
       "      <th>8</th>\n",
       "      <td>avg_glucose_level</td>\n",
       "      <td>40.629589</td>\n",
       "    </tr>\n",
       "    <tr>\n",
       "      <th>9</th>\n",
       "      <td>bmi</td>\n",
       "      <td>9.159169</td>\n",
       "    </tr>\n",
       "  </tbody>\n",
       "</table>\n",
       "</div>"
      ],
      "text/plain": [
       "            Features       Score\n",
       "0                 id    0.215766\n",
       "1             gender    0.407266\n",
       "2                age  318.094573\n",
       "3       hypertension   84.953542\n",
       "4      heart_disease   94.698406\n",
       "5       ever_married   60.667230\n",
       "6          work_type    5.340019\n",
       "7     Residence_type    1.220842\n",
       "8  avg_glucose_level   40.629589\n",
       "9                bmi    9.159169"
      ]
     },
     "execution_count": 11,
     "metadata": {},
     "output_type": "execute_result"
    }
   ],
   "source": [
    "feature_scores = pd.concat([df_columns , df_scores], axis =1)\n",
    "feature_scores.columns = ['Features','Score']\n",
    "#sorting the feature dataframe based on score values\n",
    "feature_scores.sort_values(by='Score',ascending=False)\n",
    "feature_scores"
   ]
  },
  {
   "cell_type": "code",
   "execution_count": 12,
   "id": "e39821df",
   "metadata": {},
   "outputs": [
    {
     "name": "stdout",
     "output_type": "stream",
     "text": [
      "Choosen features :  \n",
      " 2                  age\n",
      "3         hypertension\n",
      "4        heart_disease\n",
      "5         ever_married\n",
      "8    avg_glucose_level\n",
      "9                  bmi\n",
      "Name: Features, dtype: object\n"
     ]
    }
   ],
   "source": [
    "cols = feature_scores[feature_scores['Score']>9]['Features']\n",
    "print('Choosen features : ','\\n', cols)"
   ]
  },
  {
   "cell_type": "code",
   "execution_count": 13,
   "id": "77fc9790",
   "metadata": {},
   "outputs": [],
   "source": [
    "x=df[cols].values\n",
    "y=df['stroke'].values\n",
    "from sklearn import preprocessing\n",
    "x = preprocessing.StandardScaler().fit_transform(x)"
   ]
  },
  {
   "cell_type": "code",
   "execution_count": 14,
   "id": "b7fe2f8a",
   "metadata": {},
   "outputs": [
    {
     "data": {
      "text/plain": [
       "((3577, 6), (1533, 6), (3577,), (1533,))"
      ]
     },
     "execution_count": 14,
     "metadata": {},
     "output_type": "execute_result"
    }
   ],
   "source": [
    "x_train, x_test, y_train, y_test = train_test_split(x,y,random_state = 50, test_size =0.3)\n",
    "\n",
    "x_train.shape,x_test.shape,y_train.shape, y_test.shape\n"
   ]
  },
  {
   "cell_type": "code",
   "execution_count": 15,
   "id": "a00e1fd9",
   "metadata": {},
   "outputs": [],
   "source": [
    "acc_val = []\n",
    "f1_val = []\n",
    "macc_val = []"
   ]
  },
  {
   "cell_type": "markdown",
   "id": "80aa8371",
   "metadata": {},
   "source": [
    "## Model Building"
   ]
  },
  {
   "cell_type": "markdown",
   "id": "290480e7",
   "metadata": {},
   "source": [
    "#### KNN"
   ]
  },
  {
   "cell_type": "code",
   "execution_count": 16,
   "id": "e8fbb52d",
   "metadata": {},
   "outputs": [
    {
     "name": "stdout",
     "output_type": "stream",
     "text": [
      " Best accuracy of 0.956  was with k =  5\n"
     ]
    }
   ],
   "source": [
    "ks = 10\n",
    "mean_acc = np.zeros((ks-1))\n",
    "std_acc = np.zeros((ks-1))\n",
    "for n in range (1,ks):\n",
    " neg = KNeighborsClassifier(n_neighbors=n).fit(x_train, y_train)\n",
    " ypred_knn = neg.predict(x_test)\n",
    " mean_acc[n-1]= metrics.accuracy_score(y_test, ypred_knn)\n",
    " std_acc[n-1]= np.std(ypred_knn==y_test)/np.sqrt(ypred_knn.shape[0])\n",
    "print(' Best accuracy of %.3f '%mean_acc.max(), 'was with k = ', mean_acc.argmax())"
   ]
  },
  {
   "cell_type": "code",
   "execution_count": 17,
   "id": "9a3aa207",
   "metadata": {},
   "outputs": [
    {
     "data": {
      "image/png": "[encoded data removed]",
      "text/plain": [
       "<Figure size 720x360 with 1 Axes>"
      ]
     },
     "metadata": {
      "needs_background": "light"
     },
     "output_type": "display_data"
    }
   ],
   "source": [
    "plt.figure(figsize=(10,5))\n",
    "plt.plot(range(1,ks),mean_acc,'g')\n",
    "plt.fill_between(range(1,ks),mean_acc - 1 * std_acc,mean_acc + 1 * std_acc, alpha=0.10)\n",
    "plt.fill_between(range(1,ks),mean_acc - 3 * std_acc,mean_acc + 3 * std_acc, alpha=0.10)\n",
    "plt.legend(('Accuracy ', '+/- 1xstd','+/- 3xstd'))\n",
    "plt.ylabel('Accuracy ')\n",
    "plt.xlabel('Number of Neighbors (K)')\n",
    "plt.tight_layout()\n",
    "plt.show()\n"
   ]
  },
  {
   "cell_type": "code",
   "execution_count": 18,
   "id": "c2201be5",
   "metadata": {},
   "outputs": [
    {
     "name": "stdout",
     "output_type": "stream",
     "text": [
      " Train-set accuracy with k=5 is: 0.952\n",
      " Test-set accuracy with k=5 is: 0.949\n"
     ]
    }
   ],
   "source": [
    "knn = KNeighborsClassifier(n_neighbors=5).fit(x_train, y_train)\n",
    "train_scores= metrics.accuracy_score(y_train, knn.predict(x_train))\n",
    "test_scores= metrics.accuracy_score(y_test, knn.predict(x_test))\n",
    "print(' Train-set accuracy with k=5 is: %.3f'%train_scores)\n",
    "print(' Test-set accuracy with k=5 is: %.3f'%test_scores)\n",
    "k_acc = metrics.accuracy_score(y_test, ypred_knn)\n",
    "acc_val.append(k_acc)\n"
   ]
  },
  {
   "cell_type": "code",
   "execution_count": 19,
   "id": "17d52738",
   "metadata": {},
   "outputs": [
    {
     "data": {
      "image/png": "[encoded data removed]",
      "text/plain": [
       "<Figure size 648x648 with 2 Axes>"
      ]
     },
     "metadata": {
      "needs_background": "light"
     },
     "output_type": "display_data"
    }
   ],
   "source": [
    "plt.figure(figsize=(9, 9))\n",
    "ax = plt.subplot()\n",
    "cm = confusion_matrix(y_test,ypred_knn)\n",
    "sns.heatmap(cm, annot=True, ax = ax, fmt = 'g' ,cmap=plt.cm.Blues)\n",
    "ax.set_xlabel('Predicted label')\n",
    "ax.set_ylabel('Actual label')\n",
    "ax.set_title('Cofusion matrix for KNN model')\n",
    "plt.show()"
   ]
  },
  {
   "cell_type": "code",
   "execution_count": 20,
   "id": "26c05fbc",
   "metadata": {},
   "outputs": [
    {
     "name": "stdout",
     "output_type": "stream",
     "text": [
      "\n",
      " Classification report for KNN classifier\n"
     ]
    }
   ],
   "source": [
    "\n",
    "np.set_printoptions(precision=2)\n",
    "t_n = ['Stroke = 0', 'Stroke = 1']\n",
    "print('\\n',\"Classification report for KNN classifier\")\n",
    "\n"
   ]
  },
  {
   "cell_type": "code",
   "execution_count": 21,
   "id": "e9955849",
   "metadata": {},
   "outputs": [
    {
     "name": "stdout",
     "output_type": "stream",
     "text": [
      "              precision    recall  f1-score   support\n",
      "\n",
      "  Stroke = 0       0.96      1.00      0.98      1468\n",
      "  Stroke = 1       0.25      0.03      0.05        65\n",
      "\n",
      "    accuracy                           0.95      1533\n",
      "   macro avg       0.60      0.51      0.52      1533\n",
      "weighted avg       0.93      0.95      0.94      1533\n",
      "\n",
      "Accuracy of The Model : 95.49902152641879\n"
     ]
    }
   ],
   "source": [
    "print(classification_report(y_test, ypred_knn, labels=[0,1], target_names=t_n))\n",
    "print(\"Accuracy of The Model :\",accuracy_score(y_test,ypred_knn)*100)"
   ]
  },
  {
   "cell_type": "code",
   "execution_count": null,
   "id": "1e3e9d7e",
   "metadata": {},
   "outputs": [],
   "source": []
  },
  {
   "cell_type": "code",
   "execution_count": null,
   "id": "aeeaea44",
   "metadata": {},
   "outputs": [],
   "source": []
  }
 ],
 "metadata": {
  "kernelspec": {
   "display_name": "Python 3",
   "language": "python",
   "name": "python3"
  },
  "language_info": {
   "codemirror_mode": {
    "name": "ipython",
    "version": 3
   },
   "file_extension": ".py",
   "mimetype": "text/x-python",
   "name": "python",
   "nbconvert_exporter": "python",
   "pygments_lexer": "ipython3",
   "version": "3.9.4"
  }
 },
 "nbformat": 4,
 "nbformat_minor": 5
}
